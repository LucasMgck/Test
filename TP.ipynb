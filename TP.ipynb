{
 "cells": [
  {
   "cell_type": "markdown",
   "id": "cc692063-3711-4aa7-9088-6c9fc79c1894",
   "metadata": {},
   "source": [
    "# TD MLops"
   ]
  },
  {
   "cell_type": "code",
   "execution_count": 1,
   "id": "81ad6d67-9f90-493c-b10c-fefd70469e30",
   "metadata": {},
   "outputs": [],
   "source": [
    "import pandas as pd\n",
    "import numpy as np"
   ]
  },
  {
   "cell_type": "code",
   "execution_count": 6,
   "id": "7a1125ce-b4d7-462c-8be6-51ca9d05bdde",
   "metadata": {
    "tags": []
   },
   "outputs": [
    {
     "data": {
      "text/html": [
       "<div>\n",
       "<style scoped>\n",
       "    .dataframe tbody tr th:only-of-type {\n",
       "        vertical-align: middle;\n",
       "    }\n",
       "\n",
       "    .dataframe tbody tr th {\n",
       "        vertical-align: top;\n",
       "    }\n",
       "\n",
       "    .dataframe thead th {\n",
       "        text-align: right;\n",
       "    }\n",
       "</style>\n",
       "<table border=\"1\" class=\"dataframe\">\n",
       "  <thead>\n",
       "    <tr style=\"text-align: right;\">\n",
       "      <th></th>\n",
       "      <th>Order Number</th>\n",
       "      <th>Order Date</th>\n",
       "      <th>Item Name</th>\n",
       "      <th>Quantity</th>\n",
       "      <th>Product Price</th>\n",
       "      <th>Total products</th>\n",
       "    </tr>\n",
       "  </thead>\n",
       "  <tbody>\n",
       "    <tr>\n",
       "      <th>0</th>\n",
       "      <td>1388</td>\n",
       "      <td>2015-01-10 20:12:00</td>\n",
       "      <td>Onion Chutney</td>\n",
       "      <td>1</td>\n",
       "      <td>0.50</td>\n",
       "      <td>6</td>\n",
       "    </tr>\n",
       "    <tr>\n",
       "      <th>1</th>\n",
       "      <td>1388</td>\n",
       "      <td>2015-01-10 20:12:00</td>\n",
       "      <td>Mint Sauce</td>\n",
       "      <td>1</td>\n",
       "      <td>0.50</td>\n",
       "      <td>6</td>\n",
       "    </tr>\n",
       "    <tr>\n",
       "      <th>2</th>\n",
       "      <td>1388</td>\n",
       "      <td>2015-01-10 20:12:00</td>\n",
       "      <td>Lime Pickle</td>\n",
       "      <td>1</td>\n",
       "      <td>0.50</td>\n",
       "      <td>6</td>\n",
       "    </tr>\n",
       "    <tr>\n",
       "      <th>3</th>\n",
       "      <td>1388</td>\n",
       "      <td>2015-01-10 20:12:00</td>\n",
       "      <td>Paratha</td>\n",
       "      <td>1</td>\n",
       "      <td>2.95</td>\n",
       "      <td>6</td>\n",
       "    </tr>\n",
       "    <tr>\n",
       "      <th>4</th>\n",
       "      <td>1387</td>\n",
       "      <td>2015-01-10 16:55:00</td>\n",
       "      <td>Onion Bhaji</td>\n",
       "      <td>1</td>\n",
       "      <td>3.95</td>\n",
       "      <td>1</td>\n",
       "    </tr>\n",
       "    <tr>\n",
       "      <th>...</th>\n",
       "      <td>...</td>\n",
       "      <td>...</td>\n",
       "      <td>...</td>\n",
       "      <td>...</td>\n",
       "      <td>...</td>\n",
       "      <td>...</td>\n",
       "    </tr>\n",
       "    <tr>\n",
       "      <th>411</th>\n",
       "      <td>9031</td>\n",
       "      <td>2018-03-30 22:12:00</td>\n",
       "      <td>King Prawn Shaslick</td>\n",
       "      <td>1</td>\n",
       "      <td>12.95</td>\n",
       "      <td>5</td>\n",
       "    </tr>\n",
       "    <tr>\n",
       "      <th>412</th>\n",
       "      <td>9022</td>\n",
       "      <td>2018-03-30 18:15:00</td>\n",
       "      <td>Bhuna</td>\n",
       "      <td>1</td>\n",
       "      <td>12.95</td>\n",
       "      <td>5</td>\n",
       "    </tr>\n",
       "    <tr>\n",
       "      <th>413</th>\n",
       "      <td>9020</td>\n",
       "      <td>2018-03-30 17:41:00</td>\n",
       "      <td>Lamb Shashlick Curry</td>\n",
       "      <td>1</td>\n",
       "      <td>12.95</td>\n",
       "      <td>9</td>\n",
       "    </tr>\n",
       "    <tr>\n",
       "      <th>414</th>\n",
       "      <td>9008</td>\n",
       "      <td>2018-03-29 18:32:00</td>\n",
       "      <td>Tandoori King Prawn Masala</td>\n",
       "      <td>1</td>\n",
       "      <td>12.95</td>\n",
       "      <td>6</td>\n",
       "    </tr>\n",
       "    <tr>\n",
       "      <th>415</th>\n",
       "      <td>8996</td>\n",
       "      <td>2018-03-28 19:25:00</td>\n",
       "      <td>King Prawn Hari Mirch</td>\n",
       "      <td>1</td>\n",
       "      <td>12.95</td>\n",
       "      <td>11</td>\n",
       "    </tr>\n",
       "  </tbody>\n",
       "</table>\n",
       "<p>437 rows × 6 columns</p>\n",
       "</div>"
      ],
      "text/plain": [
       "     Order Number           Order Date                   Item Name  Quantity  \\\n",
       "0            1388  2015-01-10 20:12:00               Onion Chutney         1   \n",
       "1            1388  2015-01-10 20:12:00                  Mint Sauce         1   \n",
       "2            1388  2015-01-10 20:12:00                 Lime Pickle         1   \n",
       "3            1388  2015-01-10 20:12:00                     Paratha         1   \n",
       "4            1387  2015-01-10 16:55:00                 Onion Bhaji         1   \n",
       "..            ...                  ...                         ...       ...   \n",
       "411          9031  2018-03-30 22:12:00         King Prawn Shaslick         1   \n",
       "412          9022  2018-03-30 18:15:00                       Bhuna         1   \n",
       "413          9020  2018-03-30 17:41:00        Lamb Shashlick Curry         1   \n",
       "414          9008  2018-03-29 18:32:00  Tandoori King Prawn Masala         1   \n",
       "415          8996  2018-03-28 19:25:00       King Prawn Hari Mirch         1   \n",
       "\n",
       "     Product Price  Total products  \n",
       "0             0.50               6  \n",
       "1             0.50               6  \n",
       "2             0.50               6  \n",
       "3             2.95               6  \n",
       "4             3.95               1  \n",
       "..             ...             ...  \n",
       "411          12.95               5  \n",
       "412          12.95               5  \n",
       "413          12.95               9  \n",
       "414          12.95               6  \n",
       "415          12.95              11  \n",
       "\n",
       "[437 rows x 6 columns]"
      ]
     },
     "execution_count": 6,
     "metadata": {},
     "output_type": "execute_result"
    }
   ],
   "source": [
    "w1 = pd.read_csv(\"restaurant_1_week_002.csv\")\n",
    "w2 = pd.read_csv(\"restaurant_1_week_169.csv\")\n",
    "w = pd.concat([w1, w2]) \n",
    "w"
   ]
  },
  {
   "cell_type": "markdown",
   "id": "444f60b2-e947-439b-9d1d-aac03dc09317",
   "metadata": {},
   "source": [
    "## Valeurs manquantes"
   ]
  },
  {
   "cell_type": "code",
   "execution_count": 13,
   "id": "25299c34-13ed-4a5b-897f-51cbc1c1f4b6",
   "metadata": {
    "tags": []
   },
   "outputs": [
    {
     "name": "stdout",
     "output_type": "stream",
     "text": [
      "Nombre de '?' par colonne (w1) :\n",
      "Order Number      0\n",
      "Order Date        0\n",
      "Item Name         0\n",
      "Quantity          0\n",
      "Product Price     0\n",
      "Total products    0\n",
      "dtype: int64\n",
      "\n",
      "-----------------------------------\n",
      "\n",
      "Nombre de '?' par colonne (w2) :\n",
      "Order Number      0\n",
      "Order Date        0\n",
      "Item Name         0\n",
      "Quantity          0\n",
      "Product Price     0\n",
      "Total products    0\n",
      "dtype: int64\n"
     ]
    }
   ],
   "source": [
    "# Compter le nombre de \"?\" par colonne\n",
    "count_question_marks = (w1 == '?').sum()\n",
    "\n",
    "print(\"Nombre de '?' par colonne (w1) :\")\n",
    "print(count_question_marks)\n",
    "print(\"\\n-----------------------------------\\n\")\n",
    "\n",
    "\n",
    "count_question_marks = (w2 == '?').sum()\n",
    "\n",
    "print(\"Nombre de '?' par colonne (w2) :\")\n",
    "print(count_question_marks)"
   ]
  },
  {
   "cell_type": "code",
   "execution_count": 15,
   "id": "0c0573d7-1a10-47df-9df7-8449c89c5140",
   "metadata": {
    "tags": []
   },
   "outputs": [
    {
     "name": "stdout",
     "output_type": "stream",
     "text": [
      "Order Number      0\n",
      "Order Date        0\n",
      "Item Name         0\n",
      "Quantity          0\n",
      "Product Price     0\n",
      "Total products    0\n",
      "dtype: int64\n",
      "\n",
      "-----------------------------------\n",
      "\n",
      "Order Number      0\n",
      "Order Date        0\n",
      "Item Name         0\n",
      "Quantity          0\n",
      "Product Price     0\n",
      "Total products    0\n",
      "dtype: int64\n"
     ]
    }
   ],
   "source": [
    "# Compter le nombre de valeur manquante par colonne\n",
    "print(w1.isnull().sum())\n",
    "print(\"\\n-----------------------------------\\n\")\n",
    "print(w2.isnull().sum())"
   ]
  },
  {
   "cell_type": "markdown",
   "id": "852b40e5-6b2c-4a46-bf33-ea8edc3b48d9",
   "metadata": {},
   "source": [
    "## Modalités de chaque variable"
   ]
  },
  {
   "cell_type": "code",
   "execution_count": 8,
   "id": "faa9f244-7f51-4d38-9388-9bedeaca51bb",
   "metadata": {
    "tags": []
   },
   "outputs": [
    {
     "name": "stdout",
     "output_type": "stream",
     "text": [
      "Modalités distinctes pour la colonne 'Order Number': [1388 1387 1386  630 1385 1382 1376 1375]\n",
      "Modalités distinctes pour la colonne 'Order Date': ['2015-01-10 20:12:00' '2015-01-10 16:55:00' '2015-01-10 16:28:00'\n",
      " '2015-01-09 14:42:00' '2015-01-10 15:19:00' '2015-01-10 10:49:00'\n",
      " '2015-01-10 10:02:00' '2015-01-10 09:54:00']\n",
      "Modalités distinctes pour la colonne 'Item Name': ['Onion Chutney' 'Mint Sauce' 'Lime Pickle' 'Paratha' 'Onion Bhaji'\n",
      " 'Tandoori Chicken (1/4)' 'Vegetable Samosa' 'Tandoori Fish' 'Sheek Kehab'\n",
      " 'Vegetable Karahi' 'Vegetable Balti' 'Chicken Sylhet']\n",
      "Modalités distinctes pour la colonne 'Quantity': [1 2]\n",
      "Modalités distinctes pour la colonne 'Product Price': [0.5  2.95 3.95 4.95 5.95 8.95 9.95]\n",
      "Modalités distinctes pour la colonne 'Total products': [6 1 3 7 2]\n"
     ]
    }
   ],
   "source": [
    "for col in w1.columns:\n",
    "    print(f\"Modalités distinctes pour la colonne '{col}': {w1[col].unique()}\")"
   ]
  },
  {
   "cell_type": "code",
   "execution_count": 9,
   "id": "e81f70fc-ebb8-4fca-976f-28c60de5c8f1",
   "metadata": {
    "tags": []
   },
   "outputs": [
    {
     "name": "stdout",
     "output_type": "stream",
     "text": [
      "Modalités distinctes pour la colonne 'Order Number': [9039 9034 9031 9030 9028 9023 9020 9019 9012 9006 9002 9001 8996 8982\n",
      " 8978 8977 8053 8047 9033 9024 9017 9005 8997 8049 9008 8983 8980 8976\n",
      " 9044 9043 9042 9041 9038 9037 9035 9027 9026 9022 9014 9013 9007 8998\n",
      " 8992 8991 8981 8052 8050 9051 9050 9048 9046 9045 9040 9036 9025 9021\n",
      " 9018 9016 9015 9011 9010 9009 9004 8999 8990 8989 8988 8985 8979 8051\n",
      " 8048 9049 9032 9000 8986 8995 8994 8993]\n",
      "Modalités distinctes pour la colonne 'Order Date': ['2018-03-31 18:59:00' '2018-03-31 18:02:00' '2018-03-30 22:12:00'\n",
      " '2018-03-30 21:36:00' '2018-03-30 20:02:00' '2018-03-30 18:21:00'\n",
      " '2018-03-30 17:41:00' '2018-03-30 17:30:00' '2018-03-29 19:47:00'\n",
      " '2018-03-29 18:17:00' '2018-03-28 21:58:00' '2018-03-28 21:53:00'\n",
      " '2018-03-28 19:25:00' '2018-03-26 20:08:00' '2018-03-26 19:30:00'\n",
      " '2018-03-26 19:22:00' '2018-04-01 21:04:00' '2018-04-01 18:02:00'\n",
      " '2018-03-31 17:02:00' '2018-03-30 18:31:00' '2018-03-29 22:06:00'\n",
      " '2018-03-29 17:53:00' '2018-03-28 19:38:00' '2018-04-01 18:24:00'\n",
      " '2018-03-29 18:32:00' '2018-03-26 21:11:00' '2018-03-26 19:49:00'\n",
      " '2018-03-26 18:41:00' '2018-03-31 19:39:00' '2018-03-31 19:37:00'\n",
      " '2018-03-31 19:13:00' '2018-03-31 19:04:00' '2018-03-31 18:43:00'\n",
      " '2018-03-31 18:19:00' '2018-03-31 18:03:00' '2018-03-30 19:38:00'\n",
      " '2018-03-30 19:14:00' '2018-03-30 18:15:00' '2018-03-29 20:07:00'\n",
      " '2018-03-29 19:58:00' '2018-03-29 18:24:00' '2018-03-28 20:00:00'\n",
      " '2018-03-28 18:09:00' '2018-03-28 17:39:00' '2018-03-26 19:50:00'\n",
      " '2018-04-01 20:12:00' '2018-04-01 18:51:00' '2018-03-31 21:55:00'\n",
      " '2018-03-31 21:48:00' '2018-03-31 20:45:00' '2018-03-31 20:20:00'\n",
      " '2018-03-31 19:58:00' '2018-03-31 19:00:00' '2018-03-31 18:13:00'\n",
      " '2018-03-30 18:32:00' '2018-03-30 18:13:00' '2018-03-30 13:26:00'\n",
      " '2018-03-29 21:25:00' '2018-03-29 21:20:00' '2018-03-29 19:41:00'\n",
      " '2018-03-29 19:18:00' '2018-03-29 18:48:00' '2018-03-29 16:23:00'\n",
      " '2018-03-28 20:25:00' '2018-03-28 16:49:00' '2018-03-28 16:38:00'\n",
      " '2018-03-27 21:41:00' '2018-03-27 18:49:00' '2018-03-26 19:42:00'\n",
      " '2018-04-01 19:17:00' '2018-04-01 18:23:00' '2018-03-31 21:01:00'\n",
      " '2018-03-31 16:43:00' '2018-03-28 20:34:00' '2018-03-27 19:51:00'\n",
      " '2018-03-28 19:21:00' '2018-03-28 19:18:00' '2018-03-28 19:09:00']\n",
      "Modalités distinctes pour la colonne 'Item Name': ['Mango Chutney' 'Mint Sauce' 'Onion Chutney' 'Lime Pickle' 'Red Sauce'\n",
      " 'Plain Papadum' 'Spicy Papadum' 'Chapati' 'Plain Naan' 'Tandoori Roti'\n",
      " 'Keema Naan' 'Garlic Naan' 'Pilau Rice' 'Paratha' 'Plain Rice'\n",
      " 'Peshwari Naan' 'Coke 1.5 ltr' 'Kulcha Naan' 'Diet Coke 1.5 ltr' 'Raitha'\n",
      " 'Onion Naan' 'Vegetable Rice' 'Mushroom Rice' 'Onion Bhajee' 'Onion Rice'\n",
      " 'Meat Samosa' 'Masala Sauce' 'Stuffed Paratha' 'Special Fried Rice'\n",
      " 'Egg Rice' 'French Fries' 'Curry Sauce' 'Lemon Rice' 'Garlic Rice'\n",
      " 'Chicken Chaat' 'Sheek Kebab' 'Chicken Tikka' 'Prawn Puree' 'Lamb Tikka'\n",
      " 'Aloo Gobi' 'Mushroom Bhajee' 'Saag Aloo' 'Bombay Aloo' 'Tandoori Fish'\n",
      " 'Bhindi Bhajee' 'Mixed Starter' 'Muttar Paneer' 'Tarka Dall'\n",
      " 'Mixed Vegetable Curry' 'Chicken Pakora' 'King Prawn Puree'\n",
      " 'King Prawn Butterfly' 'Vegetable Mysore' 'Saag Paneer'\n",
      " 'Cauliflower Bhajee' 'COBRA (660ML)' 'Saag Bhajee' 'Madras' 'Vindaloo'\n",
      " 'Curry' 'Chicken Karahi' 'Saag' 'Korma' 'Rogon' 'Tandoori Chicken Masala'\n",
      " 'Chicken Tikka (Main)' 'Tandoori Chicken (Main)'\n",
      " 'Chicken Tikka Chilli Masala' 'Chicken Tikka Masala' 'Dhansak' 'Bhuna'\n",
      " 'Chicken Tikka Jalfrezi' 'Dupiaza' 'Methi' 'Lamb Tikka Masala'\n",
      " 'Lamb Tikka Chilli Masala' 'Lamb Tikka Pasanda' 'Chicken Tikka Garlic'\n",
      " 'Lamb Karahi' 'Lamb Tikka Jalfrezi' 'Butter Chicken' 'Lamb Biryani'\n",
      " 'Prawn Karahi' 'Chicken Sylhet' 'Chicken Chilli Garlic'\n",
      " 'Chicken Tikka Sizzler' 'Chicken Biryani' 'Chicken Balti'\n",
      " 'Chicken Shashlick' 'Paneer Tikka Sizzler' 'Chicken Roshni'\n",
      " 'Vegetable Biryani' 'Chicken Achar' 'Paneer Tikka Karahi'\n",
      " 'Chicken Tikka Balti' 'Chicken Tikka Biryani' 'Persian Lamb Biryani'\n",
      " 'Persian Chicken Biryani' 'Lamb Tikka Balti' 'Tandoori Mixed Grill'\n",
      " 'Chicken Shashlick Curry' 'King Prawn Shaslick' 'Lamb Shashlick Curry'\n",
      " 'Tandoori King Prawn Masala' 'King Prawn Hari Mirch']\n",
      "Modalités distinctes pour la colonne 'Quantity': [1 2 3 4 6 8]\n",
      "Modalités distinctes pour la colonne 'Product Price': [ 0.5   0.8   1.95  2.6   2.95  3.95  4.95  5.95  7.95  8.95  9.95 10.95\n",
      " 11.95 12.95]\n",
      "Modalités distinctes pour la colonne 'Total products': [ 7  5 11  9  8  6  4  2 12  3]\n"
     ]
    }
   ],
   "source": [
    "for col in w2.columns:\n",
    "    print(f\"Modalités distinctes pour la colonne '{col}': {w2[col].unique()}\")"
   ]
  },
  {
   "cell_type": "code",
   "execution_count": null,
   "id": "5aa5bf5c-4b17-4a34-8ddf-6d41d7c12b6e",
   "metadata": {},
   "outputs": [],
   "source": []
  }
 ],
 "metadata": {
  "kernelspec": {
   "display_name": "Python 3 (ipykernel)",
   "language": "python",
   "name": "python3"
  },
  "language_info": {
   "codemirror_mode": {
    "name": "ipython",
    "version": 3
   },
   "file_extension": ".py",
   "mimetype": "text/x-python",
   "name": "python",
   "nbconvert_exporter": "python",
   "pygments_lexer": "ipython3",
   "version": "3.11.4"
  }
 },
 "nbformat": 4,
 "nbformat_minor": 5
}
